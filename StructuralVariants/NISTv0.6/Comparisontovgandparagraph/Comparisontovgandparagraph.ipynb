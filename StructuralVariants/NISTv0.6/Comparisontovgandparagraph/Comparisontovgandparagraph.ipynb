{
 "cells": [
  {
   "cell_type": "code",
   "execution_count": 6,
   "metadata": {},
   "outputs": [],
   "source": [
    "!/Applications/bioinfo/bedtools2.26.0/bin/intersectBed -a /Users/jzook/Documents/AJTrio/SVs/triounion_171212/NIST_SVs_Integration_v0.6/HG002_SVs_Tier1_v0.6.vcf.gz -b /Users/jzook/Documents/AJTrio/SVs/triounion_171212/NIST_SVs_Integration_v0.6/HG002_SVs_Tier1_v0.6.bed | grep 'TRall=FALSE' | awk '{FS=OFS=\"\\t\"} {if($7==\"PASS\") print $1,$2-1,$2+1,$3,$10}' > GIABv0.6_GT_noTRall.bed"
   ]
  },
  {
   "cell_type": "code",
   "execution_count": 10,
   "metadata": {},
   "outputs": [],
   "source": [
    "!zgrep -v '^#' giab5-vg-HG002.vcf.gz | awk '{FS=OFS=\"\\t\"} {print $1,$2-1,$2+1,$3,$10}' > giab5-vg-HG002_GT.bed"
   ]
  },
  {
   "cell_type": "code",
   "execution_count": 11,
   "metadata": {},
   "outputs": [],
   "source": [
    "!zgrep -v '^#' giab5-paragraph-HG002.vcf.gz | awk '{FS=OFS=\"\\t\"} {print $1,$2-1,$2+1,$3,$10}' > giab5-paragraph-HG002_GT.bed"
   ]
  },
  {
   "cell_type": "code",
   "execution_count": 13,
   "metadata": {},
   "outputs": [
    {
     "name": "stdout",
     "output_type": "stream",
     "text": [
      "   1 .:.\t./.\t1/1\r\n",
      "   1 .:.\t0/1\t1/1\r\n",
      "   2 .:.\t1/1\t0/1\r\n",
      "   1 .:0\t0/1\t0/1\r\n",
      "  12 .:0\t1/1\t0/1\r\n",
      "   2 .:1\t./.\t1/1\r\n",
      "   2 .:1\t0/0\t1/1\r\n",
      "   7 .:1\t0/1\t1/1\r\n",
      "  33 .:1\t1/1\t1/1\r\n",
      " 266 0/0\t0/0\t0/1\r\n",
      "  18 0/0\t0/0\t1/1\r\n",
      " 100 0/0\t0/1\t0/1\r\n",
      "   9 0/0\t0/1\t1/1\r\n",
      "   6 0/0\t1/1\t0/1\r\n",
      "   3 0/0\t1/1\t1/1\r\n",
      "   1 0/1\t./.\t1/1\r\n",
      " 193 0/1\t0/0\t0/1\r\n",
      "  10 0/1\t0/0\t1/1\r\n",
      "2201 0/1\t0/1\t0/1\r\n",
      "  51 0/1\t0/1\t1/1\r\n",
      "  64 0/1\t1/1\t0/1\r\n",
      "  34 0/1\t1/1\t1/1\r\n",
      "   4 1/1\t./.\t1/1\r\n",
      "  28 1/1\t0/0\t1/1\r\n",
      "  40 1/1\t0/1\t0/1\r\n",
      " 120 1/1\t0/1\t1/1\r\n",
      "  64 1/1\t1/1\t0/1\r\n",
      "1776 1/1\t1/1\t1/1\r\n",
      "   2 1:1\t1/1\t1/1\r\n"
     ]
    }
   ],
   "source": [
    "!/Applications/bioinfo/bedtools2.26.0/bin/intersectBed -wa -wb -a giab5-paragraph-HG002_GT.bed -b giab5-vg-HG002_GT.bed | /Applications/bioinfo/bedtools2.26.0/bin/intersectBed -wa -wb -a stdin -b GIABv0.6_GT_noTRall.bed | awk '$4==$9 && $4==$14' | grep -v '^X' | cut -f5,10,15 | sed 's/\\(...\\).*\\(\t...\\).*\\(\t...\\).*/\\1\\2\\3/;s/1\\/0/0\\/1/' | sort -k1,1 -k2,2 -k3,3 | uniq -c"
   ]
  },
  {
   "cell_type": "code",
   "execution_count": 12,
   "metadata": {},
   "outputs": [
    {
     "name": "stdout",
     "output_type": "stream",
     "text": [
      "    5179\r\n"
     ]
    }
   ],
   "source": [
    "!/Applications/bioinfo/bedtools2.26.0/bin/intersectBed -wa -wb -a giab5-paragraph-HG002_GT.bed -b giab5-vg-HG002_GT.bed | /Applications/bioinfo/bedtools2.26.0/bin/intersectBed -wa -wb -a stdin -b GIABv0.6_GT_noTRall.bed | awk '$4==$9 && $4==$14' | wc -l"
   ]
  },
  {
   "cell_type": "code",
   "execution_count": null,
   "metadata": {},
   "outputs": [],
   "source": []
  }
 ],
 "metadata": {
  "kernelspec": {
   "display_name": "Python 3",
   "language": "python",
   "name": "python3"
  },
  "language_info": {
   "codemirror_mode": {
    "name": "ipython",
    "version": 3
   },
   "file_extension": ".py",
   "mimetype": "text/x-python",
   "name": "python",
   "nbconvert_exporter": "python",
   "pygments_lexer": "ipython3",
   "version": "3.7.4"
  }
 },
 "nbformat": 4,
 "nbformat_minor": 2
}
