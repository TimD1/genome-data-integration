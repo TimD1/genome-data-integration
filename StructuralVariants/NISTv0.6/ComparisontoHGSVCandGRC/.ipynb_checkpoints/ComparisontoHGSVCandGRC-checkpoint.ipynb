{
 "cells": [
  {
   "cell_type": "code",
   "execution_count": 15,
   "metadata": {},
   "outputs": [],
   "source": [
    "#Compare breakpoints and size of deletion calls to vcfs downloaded from dbVar for HGSVC and GRC"
   ]
  },
  {
   "cell_type": "code",
   "execution_count": null,
   "metadata": {},
   "outputs": [],
   "source": [
    "#HGSVC from ftp://ftp.ncbi.nlm.nih.gov/pub/dbVar/data/Homo_sapiens/by_study/vcf/nstd152.GRCh37.variant_call.vcf.gz"
   ]
  },
  {
   "cell_type": "code",
   "execution_count": null,
   "metadata": {},
   "outputs": [],
   "source": [
    "#GRC from ftp://ftp.ncbi.nlm.nih.gov/pub/dbVar/data/Homo_sapiens/by_study/vcf/nstd162.GRCh37.variant_call.vcf.gz"
   ]
  },
  {
   "cell_type": "code",
   "execution_count": 1,
   "metadata": {},
   "outputs": [],
   "source": [
    "!zgrep 'SVTYPE=DEL' nstd162.GRCh37.variant_call.vcf.gz | cut -f1,2,8 | sed 's/DBVARID.*;END=\\(.*\\);SVLEN.*/\\1/' | awk '{FS=OFS=\"\\t\"} {print $1,$2-1,$3}' > nstd162.GRCh37.variant_call_DEL.bed"
   ]
  },
  {
   "cell_type": "code",
   "execution_count": 2,
   "metadata": {},
   "outputs": [],
   "source": [
    "!zgrep 'SVTYPE=DEL' nstd152.GRCh37.variant_call.vcf.gz | cut -f1,2,8 | sed 's/DBVARID.*;END=\\(.*\\);SVLEN.*/\\1/;s/;CIPOS.*//' | awk '{FS=OFS=\"\\t\"} {print $1,$2-1,$3}' > nstd152.GRCh37.variant_call_DEL.bed"
   ]
  },
  {
   "cell_type": "code",
   "execution_count": 3,
   "metadata": {},
   "outputs": [],
   "source": [
    "!zgrep 'SVTYPE=DEL' /Users/jzook/Documents/AJTrio/SVs/triounion_171212/NIST_SVs_Integration_v0.6/HG002_SVs_Tier1_v0.6.vcf.gz | awk '{FS=OFS=\"\\t\"} {if($7==\"PASS\") print $1,$2,$2+length($4)-length($5)+1}' > GIABv0.6_DEL.bed"
   ]
  },
  {
   "cell_type": "code",
   "execution_count": null,
   "metadata": {},
   "outputs": [],
   "source": [
    "#each breakpoint within 1bp for HGSVC or GRC or either"
   ]
  },
  {
   "cell_type": "code",
   "execution_count": 4,
   "metadata": {},
   "outputs": [
    {
     "name": "stdout",
     "output_type": "stream",
     "text": [
      "    2482\r\n"
     ]
    }
   ],
   "source": [
    "!/Applications/bioinfo/bedtools2.26.0/bin/intersectBed -wa -wb -a GIABv0.6_DEL.bed -b nstd152.GRCh37.variant_call_DEL.bed | awk '$2-$5<2 && $3-$6<2 && $2-$5>-2 && $3-$6>-2' | cut -f1-3 | uniq | wc -l"
   ]
  },
  {
   "cell_type": "code",
   "execution_count": 6,
   "metadata": {},
   "outputs": [
    {
     "name": "stdout",
     "output_type": "stream",
     "text": [
      "    2664\r\n"
     ]
    }
   ],
   "source": [
    "!/Applications/bioinfo/bedtools2.26.0/bin/intersectBed -wa -wb -a GIABv0.6_DEL.bed -b nstd162.GRCh37.variant_call_DEL.bed | awk '$2-$5<2 && $3-$6<2 && $2-$5>-2 && $3-$6>-2' | cut -f1-3 | uniq | wc -l"
   ]
  },
  {
   "cell_type": "code",
   "execution_count": 12,
   "metadata": {},
   "outputs": [
    {
     "name": "stdout",
     "output_type": "stream",
     "text": [
      "    3145\r\n"
     ]
    }
   ],
   "source": [
    "!/Applications/bioinfo/bedtools2.26.0/bin/intersectBed -wa -wb -loj -a GIABv0.6_DEL.bed -b nstd152.GRCh37.variant_call_DEL.bed | /Applications/bioinfo/bedtools2.26.0/bin/intersectBed -wa -wb -loj -a stdin -b nstd162.GRCh37.variant_call_DEL.bed | awk '($2-$5<2 && $3-$6<2 && $2-$5>-2 && $3-$6>-2) || ($2-$8<2 && $3-$9<2 && $2-$8>-2 && $3-$9>-2)' | cut -f1-3 | uniq | wc -l"
   ]
  },
  {
   "cell_type": "code",
   "execution_count": 8,
   "metadata": {},
   "outputs": [],
   "source": [
    "#size within 1bp for HGSVC or GRC or either"
   ]
  },
  {
   "cell_type": "code",
   "execution_count": 9,
   "metadata": {},
   "outputs": [
    {
     "name": "stdout",
     "output_type": "stream",
     "text": [
      "    3135\r\n"
     ]
    }
   ],
   "source": [
    "!/Applications/bioinfo/bedtools2.26.0/bin/intersectBed -wa -wb -a GIABv0.6_DEL.bed -b nstd152.GRCh37.variant_call_DEL.bed | awk '$3-$2-$6+$5<2 && $3-$2-$6+$5>-2' | cut -f1-3 | uniq | wc -l"
   ]
  },
  {
   "cell_type": "code",
   "execution_count": 10,
   "metadata": {},
   "outputs": [
    {
     "name": "stdout",
     "output_type": "stream",
     "text": [
      "    3616\r\n"
     ]
    }
   ],
   "source": [
    "!/Applications/bioinfo/bedtools2.26.0/bin/intersectBed -wa -wb -a GIABv0.6_DEL.bed -b nstd162.GRCh37.variant_call_DEL.bed | awk '$3-$2-$6+$5<2 && $3-$2-$6+$5>-2' | cut -f1-3 | uniq | wc -l"
   ]
  },
  {
   "cell_type": "code",
   "execution_count": 13,
   "metadata": {},
   "outputs": [
    {
     "name": "stdout",
     "output_type": "stream",
     "text": [
      "    4004\r\n"
     ]
    }
   ],
   "source": [
    "!/Applications/bioinfo/bedtools2.26.0/bin/intersectBed -wa -wb -loj -a GIABv0.6_DEL.bed -b nstd152.GRCh37.variant_call_DEL.bed | /Applications/bioinfo/bedtools2.26.0/bin/intersectBed -wa -wb -loj -a stdin -b nstd162.GRCh37.variant_call_DEL.bed | awk '($3-$2-$6+$5<2 && $3-$2-$6+$5>-2) || ($3-$2-$9+$8<2 && $3-$2-$9+$8>-2)' | cut -f1-3 | uniq | wc -l"
   ]
  },
  {
   "cell_type": "code",
   "execution_count": 14,
   "metadata": {},
   "outputs": [
    {
     "name": "stdout",
     "output_type": "stream",
     "text": [
      "    5464 GIABv0.6_DEL.bed\r\n"
     ]
    }
   ],
   "source": [
    "!wc -l GIABv0.6_DEL.bed"
   ]
  },
  {
   "cell_type": "code",
   "execution_count": null,
   "metadata": {},
   "outputs": [],
   "source": [
    "#Check for sensitivity of v0.6 to deletions in gnomad with european hom ref fraction <5% and >1000 Europeans with the variant to help assure we aren't missing calls from population-based callers"
   ]
  },
  {
   "cell_type": "code",
   "execution_count": 23,
   "metadata": {},
   "outputs": [
    {
     "name": "stdout",
     "output_type": "stream",
     "text": [
      "     429\r\n"
     ]
    }
   ],
   "source": [
    "!gunzip -c gnomad_v2.1_sv.sites.bed.gz | awk '$84<0.05 && $82+$83>1000 && $5==\"DEL\"' | wc -l"
   ]
  },
  {
   "cell_type": "code",
   "execution_count": 24,
   "metadata": {},
   "outputs": [
    {
     "name": "stdout",
     "output_type": "stream",
     "text": [
      "     296\r\n"
     ]
    }
   ],
   "source": [
    "!gunzip -c gnomad_v2.1_sv.sites.bed.gz | awk '$84<0.05 && $82+$83>1000 && $5==\"DEL\"' | cut -f1-3 | /Applications/bioinfo/bedtools2.26.0/bin/intersectBed -wa -a stdin -b /Users/jzook/Documents/AJTrio/SVs/triounion_171212/NIST_SVs_Integration_v0.6/HG002_SVs_Tier1_v0.6.bed | uniq | wc -l"
   ]
  },
  {
   "cell_type": "code",
   "execution_count": 18,
   "metadata": {},
   "outputs": [
    {
     "name": "stdout",
     "output_type": "stream",
     "text": [
      "     180\r\n"
     ]
    }
   ],
   "source": [
    "!gunzip -c gnomad_v2.1_sv.sites.bed.gz | awk '$84<0.05 && $5==\"DEL\"' | cut -f1-3 | /Applications/bioinfo/bedtools2.26.0/bin/intersectBed -v -a stdin -b /Users/jzook/Documents/AJTrio/SVs/triounion_171212/NIST_SVs_Integration_v0.6/HG002_SVs_Tier1_v0.6.bed | uniq | wc -l"
   ]
  },
  {
   "cell_type": "code",
   "execution_count": 25,
   "metadata": {},
   "outputs": [
    {
     "name": "stdout",
     "output_type": "stream",
     "text": [
      "     286\r\n"
     ]
    }
   ],
   "source": [
    "!gunzip -c gnomad_v2.1_sv.sites.bed.gz | awk '$84<0.05 && $82+$83>1000 && $5==\"DEL\"' | cut -f1-3 | /Applications/bioinfo/bedtools2.26.0/bin/intersectBed -wa -a stdin -b /Users/jzook/Documents/AJTrio/SVs/triounion_171212/NIST_SVs_Integration_v0.6/HG002_SVs_Tier1_v0.6.bed | uniq | /Applications/bioinfo/bedtools2.26.0/bin/intersectBed -wa -wb -a stdin -b GIABv0.6_DEL.bed | cut -f1-3 | uniq | wc -l"
   ]
  },
  {
   "cell_type": "code",
   "execution_count": 26,
   "metadata": {},
   "outputs": [
    {
     "name": "stdout",
     "output_type": "stream",
     "text": [
      "     282\r\n"
     ]
    }
   ],
   "source": [
    "!gunzip -c gnomad_v2.1_sv.sites.bed.gz | awk '$84<0.05 && $82+$83>1000 && $5==\"DEL\"' | cut -f1-3 | /Applications/bioinfo/bedtools2.26.0/bin/intersectBed -wa -a stdin -b /Users/jzook/Documents/AJTrio/SVs/triounion_171212/NIST_SVs_Integration_v0.6/HG002_SVs_Tier1_v0.6.bed | uniq | /Applications/bioinfo/bedtools2.26.0/bin/intersectBed -wa -wb -a stdin -b GIABv0.6_DEL.bed | awk '($3-$2)/($6-$5)>0.7 && ($3-$2)/($6-$5)<1.3' | cut -f1-3 | uniq | wc -l"
   ]
  },
  {
   "cell_type": "code",
   "execution_count": 46,
   "metadata": {},
   "outputs": [
    {
     "name": "stdout",
     "output_type": "stream",
     "text": [
      "5\t124484288\t124484391\t5\t124484339\t124484392\r\n",
      "7\t22202774\t22202839\t7\t22202731\t22202840\r\n",
      "11\t108835102\t108835180\t11\t108835056\t108835181\r\n",
      "15\t36954590\t36954693\t15\t36954641\t36954694\r\n"
     ]
    }
   ],
   "source": [
    "!gunzip -c gnomad_v2.1_sv.sites.bed.gz | awk '$84<0.05 && $82+$83>1000 && $5==\"DEL\"' | cut -f1-3 | /Applications/bioinfo/bedtools2.26.0/bin/intersectBed -wa -a stdin -b /Users/jzook/Documents/AJTrio/SVs/triounion_171212/NIST_SVs_Integration_v0.6/HG002_SVs_Tier1_v0.6.bed | uniq | /Applications/bioinfo/bedtools2.26.0/bin/intersectBed -wa -wb -a stdin -b GIABv0.6_DEL.bed | awk '($3-$2)/($6-$5)<0.7 || ($3-$2)/($6-$5)>1.3' "
   ]
  },
  {
   "cell_type": "code",
   "execution_count": 47,
   "metadata": {},
   "outputs": [
    {
     "name": "stdout",
     "output_type": "stream",
     "text": [
      "5\t124484289\tgnomAD-SV_v2.1_DEL_5_62418\tN\t<DEL>\t637\tLOW_CALL_RATE\tEND=124484391;SVTYPE=DEL;SVLEN=102;ALGORITHMS=manta;EVIDENCE=SR;HIGH_SR_BACKGROUND;PROTEIN_CODING__INTERGENIC;PROTEIN_CODING__NEAREST_TSS=ZNF608;AN=7532;AC=3495;AF=0.46402;N_BI_GENOS=3766;N_HOMREF=276;N_HET=3485;N_HOMALT=5;FREQ_HOMREF=0.0732873;FREQ_HET=0.925385;FREQ_HOMALT=0.00132767;AFR_AN=3222;AFR_AC=1422;AFR_AF=0.441341;AFR_N_BI_GENOS=1611;AFR_N_HOMREF=193;AFR_N_HET=1414;AFR_N_HOMALT=4;AFR_FREQ_HOMREF=0.119801;AFR_FREQ_HET=0.877716;AFR_FREQ_HOMALT=0.00248293;AMR_AN=596;AMR_AC=280;AMR_AF=0.469799;AMR_N_BI_GENOS=298;AMR_N_HOMREF=18;AMR_N_HET=280;AMR_N_HOMALT=0;AMR_FREQ_HOMREF=0.0604027;AMR_FREQ_HET=0.939597;AMR_FREQ_HOMALT=0;EAS_AN=920;EAS_AC=447;EAS_AF=0.48587;EAS_N_BI_GENOS=460;EAS_N_HOMREF=13;EAS_N_HET=447;EAS_N_HOMALT=0;EAS_FREQ_HOMREF=0.0282609;EAS_FREQ_HET=0.971739;EAS_FREQ_HOMALT=0;EUR_AN=2718;EUR_AC=1310;EUR_AF=0.481972;EUR_N_BI_GENOS=1359;EUR_N_HOMREF=50;EUR_N_HET=1308;EUR_N_HOMALT=1;EUR_FREQ_HOMREF=0.0367918;EUR_FREQ_HET=0.962472;EUR_FREQ_HOMALT=0.000735835;OTH_AN=76;OTH_AC=36;OTH_AF=0.473684;OTH_N_BI_GENOS=38;OTH_N_HOMREF=2;OTH_N_HET=36;OTH_N_HOMALT=0;OTH_FREQ_HOMREF=0.0526316;OTH_FREQ_HET=0.947368;OTH_FREQ_HOMALT=0;POPMAX_AF=0.48587\r\n"
     ]
    }
   ],
   "source": [
    "!zgrep '^5.124484' gnomad_v2.1_sv.sites.vcf.gz"
   ]
  },
  {
   "cell_type": "code",
   "execution_count": 48,
   "metadata": {},
   "outputs": [
    {
     "name": "stdout",
     "output_type": "stream",
     "text": [
      "7\t22202775\tgnomAD-SV_v2.1_DEL_7_79224\tN\t<DEL>\t680\tPASS\tEND=22202839;SVTYPE=DEL;SVLEN=64;ALGORITHMS=manta;BOTHSIDES_SUPPORT;EVIDENCE=SR;PESR_GT_OVERDISPERSION;PROTEIN_CODING__INTRONIC=RAPGEF5;AN=21684;AC=11785;AF=0.543488;N_BI_GENOS=10842;N_HOMREF=44;N_HET=9811;N_HOMALT=987;FREQ_HOMREF=0.00405829;FREQ_HET=0.904907;FREQ_HOMALT=0.0910349;AFR_AN=9524;AFR_AC=5164;AFR_AF=0.542209;AFR_N_BI_GENOS=4762;AFR_N_HOMREF=32;AFR_N_HET=4296;AFR_N_HOMALT=434;AFR_FREQ_HOMREF=0.00671987;AFR_FREQ_HET=0.902142;AFR_FREQ_HOMALT=0.0911382;AMR_AN=1930;AMR_AC=1059;AMR_AF=0.548705;AMR_N_BI_GENOS=965;AMR_N_HOMREF=4;AMR_N_HET=863;AMR_N_HOMALT=98;AMR_FREQ_HOMREF=0.00414508;AMR_FREQ_HET=0.894301;AMR_FREQ_HOMALT=0.101554;EAS_AN=2416;EAS_AC=1309;EAS_AF=0.541805;EAS_N_BI_GENOS=1208;EAS_N_HOMREF=0;EAS_N_HET=1107;EAS_N_HOMALT=101;EAS_FREQ_HOMREF=0;EAS_FREQ_HET=0.916391;EAS_FREQ_HOMALT=0.0836093;EUR_AN=7624;EUR_AC=4156;EUR_AF=0.545121;EUR_N_BI_GENOS=3812;EUR_N_HOMREF=7;EUR_N_HET=3454;EUR_N_HOMALT=351;EUR_FREQ_HOMREF=0.00183631;EUR_FREQ_HET=0.906086;EUR_FREQ_HOMALT=0.0920777;OTH_AN=190;OTH_AC=97;OTH_AF=0.510526;OTH_N_BI_GENOS=95;OTH_N_HOMREF=1;OTH_N_HET=91;OTH_N_HOMALT=3;OTH_FREQ_HOMREF=0.0105263;OTH_FREQ_HET=0.957895;OTH_FREQ_HOMALT=0.0315789;POPMAX_AF=0.548705\r\n"
     ]
    }
   ],
   "source": [
    "!zgrep '^7.22202' gnomad_v2.1_sv.sites.vcf.gz"
   ]
  },
  {
   "cell_type": "code",
   "execution_count": 50,
   "metadata": {},
   "outputs": [
    {
     "name": "stdout",
     "output_type": "stream",
     "text": [
      "11\t108835103\tgnomAD-SV_v2.1_DEL_11_123161\tN\t<DEL>\t643\tPASS\tEND=108835180;SVTYPE=DEL;SVLEN=77;ALGORITHMS=manta;BOTHSIDES_SUPPORT;EVIDENCE=SR;PCRPLUS_DEPLETED;PESR_GT_OVERDISPERSION;PROTEIN_CODING__INTERGENIC;PROTEIN_CODING__NEAREST_TSS=EXPH5;AN=20614;AC=11013;AF=0.534249;N_BI_GENOS=10307;N_HOMREF=251;N_HET=9099;N_HOMALT=957;FREQ_HOMREF=0.0243524;FREQ_HET=0.882798;FREQ_HOMALT=0.0928495;AFR_AN=9086;AFR_AC=4625;AFR_AF=0.509025;AFR_N_BI_GENOS=4543;AFR_N_HOMREF=248;AFR_N_HET=3965;AFR_N_HOMALT=330;AFR_FREQ_HOMREF=0.0545895;AFR_FREQ_HET=0.872771;AFR_FREQ_HOMALT=0.0726392;AMR_AN=1470;AMR_AC=802;AMR_AF=0.545578;AMR_N_BI_GENOS=735;AMR_N_HOMREF=2;AMR_N_HET=664;AMR_N_HOMALT=69;AMR_FREQ_HOMREF=0.00272109;AMR_FREQ_HET=0.903401;AMR_FREQ_HOMALT=0.0938776;EAS_AN=2416;EAS_AC=1321;EAS_AF=0.546772;EAS_N_BI_GENOS=1208;EAS_N_HOMREF=0;EAS_N_HET=1095;EAS_N_HOMALT=113;EAS_FREQ_HOMREF=0;EAS_FREQ_HET=0.906457;EAS_FREQ_HOMALT=0.093543;EUR_AN=7452;EUR_AC=4161;EUR_AF=0.558374;EUR_N_BI_GENOS=3726;EUR_N_HOMREF=0;EUR_N_HET=3291;EUR_N_HOMALT=435;EUR_FREQ_HOMREF=0;EUR_FREQ_HET=0.883253;EUR_FREQ_HOMALT=0.116747;OTH_AN=190;OTH_AC=104;OTH_AF=0.547368;OTH_N_BI_GENOS=95;OTH_N_HOMREF=1;OTH_N_HET=84;OTH_N_HOMALT=10;OTH_FREQ_HOMREF=0.0105263;OTH_FREQ_HET=0.884211;OTH_FREQ_HOMALT=0.105263;POPMAX_AF=0.558374\r\n"
     ]
    }
   ],
   "source": [
    "!zgrep '^11.108835' gnomad_v2.1_sv.sites.vcf.gz"
   ]
  },
  {
   "cell_type": "code",
   "execution_count": 51,
   "metadata": {},
   "outputs": [
    {
     "name": "stdout",
     "output_type": "stream",
     "text": [
      "15\t36954591\tgnomAD-SV_v2.1_DEL_15_146870\tN\t<DEL>\t655\tLOW_CALL_RATE\tEND=36954693;SVTYPE=DEL;SVLEN=102;ALGORITHMS=manta;EVIDENCE=SR;HIGH_SR_BACKGROUND;PROTEIN_CODING__INTRONIC=C15orf41;AN=8956;AC=4371;AF=0.488053;N_BI_GENOS=4478;N_HOMREF=115;N_HET=4355;N_HOMALT=8;FREQ_HOMREF=0.0256811;FREQ_HET=0.972532;FREQ_HOMALT=0.00178651;AFR_AN=4076;AFR_AC=1967;AFR_AF=0.482581;AFR_N_BI_GENOS=2038;AFR_N_HOMREF=75;AFR_N_HET=1959;AFR_N_HOMALT=4;AFR_FREQ_HOMREF=0.0368008;AFR_FREQ_HET=0.961236;AFR_FREQ_HOMALT=0.00196271;AMR_AN=622;AMR_AC=297;AMR_AF=0.477492;AMR_N_BI_GENOS=311;AMR_N_HOMREF=14;AMR_N_HET=297;AMR_N_HOMALT=0;AMR_FREQ_HOMREF=0.0450161;AMR_FREQ_HET=0.954984;AMR_FREQ_HOMALT=0;EAS_AN=992;EAS_AC=491;EAS_AF=0.49496;EAS_N_BI_GENOS=496;EAS_N_HOMREF=6;EAS_N_HET=489;EAS_N_HOMALT=1;EAS_FREQ_HOMREF=0.0120968;EAS_FREQ_HET=0.985887;EAS_FREQ_HOMALT=0.00201613;EUR_AN=3182;EUR_AC=1574;EUR_AF=0.494657;EUR_N_BI_GENOS=1591;EUR_N_HOMREF=20;EUR_N_HET=1568;EUR_N_HOMALT=3;EUR_FREQ_HOMREF=0.0125707;EUR_FREQ_HET=0.985544;EUR_FREQ_HOMALT=0.00188561;OTH_AN=84;OTH_AC=42;OTH_AF=0.5;OTH_N_BI_GENOS=42;OTH_N_HOMREF=0;OTH_N_HET=42;OTH_N_HOMALT=0;OTH_FREQ_HOMREF=0;OTH_FREQ_HET=1;OTH_FREQ_HOMALT=0;POPMAX_AF=0.5\r\n"
     ]
    }
   ],
   "source": [
    "!zgrep '^15.36954' gnomad_v2.1_sv.sites.vcf.gz"
   ]
  },
  {
   "cell_type": "code",
   "execution_count": 27,
   "metadata": {},
   "outputs": [
    {
     "name": "stdout",
     "output_type": "stream",
     "text": [
      "      10\r\n"
     ]
    }
   ],
   "source": [
    "!gunzip -c gnomad_v2.1_sv.sites.bed.gz | awk '$84<0.05 && $82+$83>1000 && $5==\"DEL\"' | cut -f1-3 | /Applications/bioinfo/bedtools2.26.0/bin/intersectBed -wa -a stdin -b /Users/jzook/Documents/AJTrio/SVs/triounion_171212/NIST_SVs_Integration_v0.6/HG002_SVs_Tier1_v0.6.bed | uniq | /Applications/bioinfo/bedtools2.26.0/bin/intersectBed -v -a stdin -b GIABv0.6_DEL.bed | cut -f1-3 | uniq | wc -l"
   ]
  },
  {
   "cell_type": "code",
   "execution_count": 28,
   "metadata": {},
   "outputs": [
    {
     "name": "stdout",
     "output_type": "stream",
     "text": [
      "2\t209451730\t209452044\r\n",
      "4\t173425031\t173433520\r\n",
      "5\t27351256\t27351744\r\n",
      "6\t10264468\t10265264\r\n",
      "8\t594396\t599414\r\n",
      "9\t32315160\t32315380\r\n",
      "9\t119477076\t119477397\r\n",
      "10\t18503075\t18503589\r\n",
      "10\t132182190\t132182302\r\n",
      "X\t75253869\t75254166\r\n"
     ]
    }
   ],
   "source": [
    "!gunzip -c gnomad_v2.1_sv.sites.bed.gz | awk '$84<0.05 && $82+$83>1000 && $5==\"DEL\"' | cut -f1-3 | /Applications/bioinfo/bedtools2.26.0/bin/intersectBed -wa -a stdin -b /Users/jzook/Documents/AJTrio/SVs/triounion_171212/NIST_SVs_Integration_v0.6/HG002_SVs_Tier1_v0.6.bed | uniq | /Applications/bioinfo/bedtools2.26.0/bin/intersectBed -v -a stdin -b GIABv0.6_DEL.bed | cut -f1-3 | uniq"
   ]
  },
  {
   "cell_type": "code",
   "execution_count": 36,
   "metadata": {},
   "outputs": [
    {
     "name": "stdout",
     "output_type": "stream",
     "text": [
      "209451731\r\n",
      "173425032\r\n",
      "27351257\r\n",
      "10264469\r\n",
      "594397\r\n",
      "32315161\r\n",
      "119477077\r\n",
      "18503076\r\n",
      "132182191\r\n",
      "75253870\r\n"
     ]
    }
   ],
   "source": [
    "!gunzip -c gnomad_v2.1_sv.sites.bed.gz | awk '$84<0.05 && $82+$83>1000 && $5==\"DEL\"' | cut -f1-3 | /Applications/bioinfo/bedtools2.26.0/bin/intersectBed -wa -a stdin -b /Users/jzook/Documents/AJTrio/SVs/triounion_171212/NIST_SVs_Integration_v0.6/HG002_SVs_Tier1_v0.6.bed | uniq | /Applications/bioinfo/bedtools2.26.0/bin/intersectBed -v -a stdin -b GIABv0.6_DEL.bed | cut -f1-3 | uniq | cut -f2 | awk '$1+=1' "
   ]
  },
  {
   "cell_type": "code",
   "execution_count": 35,
   "metadata": {},
   "outputs": [
    {
     "name": "stdout",
     "output_type": "stream",
     "text": [
      "2\t209451731\tgnomAD-SV_v2.1_DEL_2_26563\tN\t<DEL>\t999\tPASS\tEND=209452044;SVTYPE=DEL;SVLEN=313;ALGORITHMS=manta;BOTHSIDES_SUPPORT;EVIDENCE=RD,SR;PCRPLUS_DEPLETED;PESR_GT_OVERDISPERSION;PROTEIN_CODING__INTERGENIC;PROTEIN_CODING__NEAREST_TSS=IDH1;AN=20614;AC=14828;AF=0.719317;N_BI_GENOS=10307;N_HOMREF=532;N_HET=4722;N_HOMALT=5053;FREQ_HOMREF=0.0516154;FREQ_HET=0.458135;FREQ_HOMALT=0.490249;AFR_AN=9086;AFR_AC=7084;AFR_AF=0.779661;AFR_N_BI_GENOS=4543;AFR_N_HOMREF=58;AFR_N_HET=1886;AFR_N_HOMALT=2599;AFR_FREQ_HOMREF=0.0127669;AFR_FREQ_HET=0.415144;AFR_FREQ_HOMALT=0.572089;AMR_AN=1470;AMR_AC=1108;AMR_AF=0.753741;AMR_N_BI_GENOS=735;AMR_N_HOMREF=15;AMR_N_HET=332;AMR_N_HOMALT=388;AMR_FREQ_HOMREF=0.0204082;AMR_FREQ_HET=0.451701;AMR_FREQ_HOMALT=0.527891;EAS_AN=2416;EAS_AC=1104;EAS_AF=0.456954;EAS_N_BI_GENOS=1208;EAS_N_HOMREF=311;EAS_N_HET=690;EAS_N_HOMALT=207;EAS_FREQ_HOMREF=0.25745;EAS_FREQ_HET=0.571192;EAS_FREQ_HOMALT=0.171358;EUR_AN=7452;EUR_AC=5398;EUR_AF=0.724369;EUR_N_BI_GENOS=3726;EUR_N_HOMREF=137;EUR_N_HET=1780;EUR_N_HOMALT=1809;EUR_FREQ_HOMREF=0.0367687;EUR_FREQ_HET=0.477724;EUR_FREQ_HOMALT=0.485507;OTH_AN=190;OTH_AC=134;OTH_AF=0.705263;OTH_N_BI_GENOS=95;OTH_N_HOMREF=11;OTH_N_HET=34;OTH_N_HOMALT=50;OTH_FREQ_HOMREF=0.115789;OTH_FREQ_HET=0.357895;OTH_FREQ_HOMALT=0.526316;POPMAX_AF=0.779661\r\n"
     ]
    }
   ],
   "source": [
    "!zgrep 209451731 gnomad_v2.1_sv.sites.vcf.gz"
   ]
  },
  {
   "cell_type": "code",
   "execution_count": 37,
   "metadata": {},
   "outputs": [
    {
     "name": "stdout",
     "output_type": "stream",
     "text": [
      "4\t173425032\tgnomAD-SV_v2.1_BND_4_19932\tN\t<BND>\t999\tUNRESOLVED\tEND=173425033;SVTYPE=BND;SVLEN=8488;CHR2=4;POS2=173433520;END2=173433521;ALGORITHMS=delly;BOTHSIDES_SUPPORT;EVIDENCE=SR;PESR_GT_OVERDISPERSION;UNRESOLVED_TYPE=MIXED_BREAKENDS;AN=21260;AC=15345;AF=0.721778;N_BI_GENOS=10630;N_HOMREF=753;N_HET=4409;N_HOMALT=5468;FREQ_HOMREF=0.0708373;FREQ_HET=0.41477;FREQ_HOMALT=0.514393;AFR_AN=9244;AFR_AC=5711;AFR_AF=0.617806;AFR_N_BI_GENOS=4622;AFR_N_HOMREF=552;AFR_N_HET=2429;AFR_N_HOMALT=1641;AFR_FREQ_HOMREF=0.119429;AFR_FREQ_HET=0.52553;AFR_FREQ_HOMALT=0.355041;AMR_AN=1882;AMR_AC=1566;AMR_AF=0.832094;AMR_N_BI_GENOS=941;AMR_N_HOMREF=16;AMR_N_HET=284;AMR_N_HOMALT=641;AMR_FREQ_HOMREF=0.0170032;AMR_FREQ_HET=0.301807;AMR_FREQ_HOMALT=0.68119;EAS_AN=2416;EAS_AC=2207;EAS_AF=0.913493;EAS_N_BI_GENOS=1208;EAS_N_HOMREF=0;EAS_N_HET=209;EAS_N_HOMALT=999;EAS_FREQ_HOMREF=0;EAS_FREQ_HET=0.173013;EAS_FREQ_HOMALT=0.826987;EUR_AN=7534;EUR_AC=5713;EUR_AF=0.758296;EUR_N_BI_GENOS=3767;EUR_N_HOMREF=183;EUR_N_HET=1455;EUR_N_HOMALT=2129;EUR_FREQ_HOMREF=0.0485798;EUR_FREQ_HET=0.386249;EUR_FREQ_HOMALT=0.565171;OTH_AN=184;OTH_AC=148;OTH_AF=0.804348;OTH_N_BI_GENOS=92;OTH_N_HOMREF=2;OTH_N_HET=32;OTH_N_HOMALT=58;OTH_FREQ_HOMREF=0.0217391;OTH_FREQ_HET=0.347826;OTH_FREQ_HOMALT=0.630435;POPMAX_AF=0.913493\r\n",
      "4\t173425032\tgnomAD-SV_v2.1_DEL_4_52713\tN\t<DEL>\t999\tPASS\tEND=173433520;SVTYPE=DEL;SVLEN=8488;ALGORITHMS=delly,depth;BOTHSIDES_SUPPORT;EVIDENCE=RD,SR;PESR_GT_OVERDISPERSION;PROTEIN_CODING__INTRONIC=GALNTL6;AN=21694;AC=16646;AF=0.767309;N_BI_GENOS=10847;N_HOMREF=764;N_HET=3520;N_HOMALT=6563;FREQ_HOMREF=0.0704342;FREQ_HET=0.324514;FREQ_HOMALT=0.605052;AFR_AN=9534;AFR_AC=6243;AFR_AF=0.654814;AFR_N_BI_GENOS=4767;AFR_N_HOMREF=562;AFR_N_HET=2167;AFR_N_HOMALT=2038;AFR_FREQ_HOMREF=0.117894;AFR_FREQ_HET=0.454584;AFR_FREQ_HOMALT=0.427523;AMR_AN=1930;AMR_AC=1703;AMR_AF=0.882383;AMR_N_BI_GENOS=965;AMR_N_HOMREF=16;AMR_N_HET=195;AMR_N_HOMALT=754;AMR_FREQ_HOMREF=0.0165803;AMR_FREQ_HET=0.202073;AMR_FREQ_HOMALT=0.781347;EAS_AN=2416;EAS_AC=2398;EAS_AF=0.99255;EAS_N_BI_GENOS=1208;EAS_N_HOMREF=0;EAS_N_HET=18;EAS_N_HOMALT=1190;EAS_FREQ_HOMREF=0;EAS_FREQ_HET=0.0149007;EAS_FREQ_HOMALT=0.985099;EUR_AN=7624;EUR_AC=6146;EUR_AF=0.806139;EUR_N_BI_GENOS=3812;EUR_N_HOMREF=184;EUR_N_HET=1110;EUR_N_HOMALT=2518;EUR_FREQ_HOMREF=0.0482686;EUR_FREQ_HET=0.291186;EUR_FREQ_HOMALT=0.660546;OTH_AN=190;OTH_AC=156;OTH_AF=0.821053;OTH_N_BI_GENOS=95;OTH_N_HOMREF=2;OTH_N_HET=30;OTH_N_HOMALT=63;OTH_FREQ_HOMREF=0.0210526;OTH_FREQ_HET=0.315789;OTH_FREQ_HOMALT=0.663158;POPMAX_AF=0.99255\r\n"
     ]
    }
   ],
   "source": [
    "!zgrep 173425032 gnomad_v2.1_sv.sites.vcf.gz"
   ]
  },
  {
   "cell_type": "code",
   "execution_count": 38,
   "metadata": {},
   "outputs": [
    {
     "name": "stdout",
     "output_type": "stream",
     "text": [
      "5\t27351257\tgnomAD-SV_v2.1_DEL_5_56147\tN\t<DEL>\t220\tPASS\tEND=27351744;SVTYPE=DEL;SVLEN=487;ALGORITHMS=delly;BOTHSIDES_SUPPORT;EVIDENCE=SR;PCRPLUS_DEPLETED;PROTEIN_CODING__INTERGENIC;PROTEIN_CODING__NEAREST_TSS=CDH9;AN=20614;AC=9794;AF=0.475114;N_BI_GENOS=10307;N_HOMREF=528;N_HET=9764;N_HOMALT=15;FREQ_HOMREF=0.0512273;FREQ_HET=0.947317;FREQ_HOMALT=0.00145532;AFR_AN=9086;AFR_AC=4136;AFR_AF=0.455206;AFR_N_BI_GENOS=4543;AFR_N_HOMREF=416;AFR_N_HET=4118;AFR_N_HOMALT=9;AFR_FREQ_HOMREF=0.0915694;AFR_FREQ_HET=0.906449;AFR_FREQ_HOMALT=0.00198107;AMR_AN=1470;AMR_AC=729;AMR_AF=0.495918;AMR_N_BI_GENOS=735;AMR_N_HOMREF=7;AMR_N_HET=727;AMR_N_HOMALT=1;AMR_FREQ_HOMREF=0.00952381;AMR_FREQ_HET=0.989116;AMR_FREQ_HOMALT=0.00136054;EAS_AN=2416;EAS_AC=1201;EAS_AF=0.497103;EAS_N_BI_GENOS=1208;EAS_N_HOMREF=8;EAS_N_HET=1199;EAS_N_HOMALT=1;EAS_FREQ_HOMREF=0.00662252;EAS_FREQ_HET=0.99255;EAS_FREQ_HOMALT=0.000827815;EUR_AN=7452;EUR_AC=3636;EUR_AF=0.487923;EUR_N_BI_GENOS=3726;EUR_N_HOMREF=94;EUR_N_HET=3628;EUR_N_HOMALT=4;EUR_FREQ_HOMREF=0.0252281;EUR_FREQ_HET=0.973698;EUR_FREQ_HOMALT=0.00107354;OTH_AN=190;OTH_AC=92;OTH_AF=0.484211;OTH_N_BI_GENOS=95;OTH_N_HOMREF=3;OTH_N_HET=92;OTH_N_HOMALT=0;OTH_FREQ_HOMREF=0.0315789;OTH_FREQ_HET=0.968421;OTH_FREQ_HOMALT=0;POPMAX_AF=0.497103\r\n"
     ]
    }
   ],
   "source": [
    "!zgrep 27351257 gnomad_v2.1_sv.sites.vcf.gz"
   ]
  },
  {
   "cell_type": "code",
   "execution_count": 39,
   "metadata": {},
   "outputs": [
    {
     "name": "stdout",
     "output_type": "stream",
     "text": [
      "6\t10264469\tgnomAD-SV_v2.1_DEL_6_66622\tN\t<DEL>\t546\tPASS\tEND=10265264;SVTYPE=DEL;SVLEN=795;ALGORITHMS=delly;BOTHSIDES_SUPPORT;EVIDENCE=RD,SR;PESR_GT_OVERDISPERSION;PROTEIN_CODING__INTERGENIC;PROTEIN_CODING__NEAREST_TSS=OFCC1;AN=21606;AC=8626;AF=0.399241;N_BI_GENOS=10803;N_HOMREF=2520;N_HET=7940;N_HOMALT=343;FREQ_HOMREF=0.233269;FREQ_HET=0.734981;FREQ_HOMALT=0.0317504;AFR_AN=9480;AFR_AC=2646;AFR_AF=0.279114;AFR_N_BI_GENOS=4740;AFR_N_HOMREF=2151;AFR_N_HET=2532;AFR_N_HOMALT=57;AFR_FREQ_HOMREF=0.453797;AFR_FREQ_HET=0.534177;AFR_FREQ_HOMALT=0.0120253;AMR_AN=1906;AMR_AC=907;AMR_AF=0.475866;AMR_N_BI_GENOS=953;AMR_N_HOMREF=87;AMR_N_HET=825;AMR_N_HOMALT=41;AMR_FREQ_HOMREF=0.0912907;AMR_FREQ_HET=0.865687;AMR_FREQ_HOMALT=0.043022;EAS_AN=2416;EAS_AC=1118;EAS_AF=0.462748;EAS_N_BI_GENOS=1208;EAS_N_HOMREF=125;EAS_N_HET=1048;EAS_N_HOMALT=35;EAS_FREQ_HOMREF=0.103477;EAS_FREQ_HET=0.86755;EAS_FREQ_HOMALT=0.0289735;EUR_AN=7614;EUR_AC=3871;EUR_AF=0.508406;EUR_N_BI_GENOS=3807;EUR_N_HOMREF=143;EUR_N_HET=3457;EUR_N_HOMALT=207;EUR_FREQ_HOMREF=0.0375624;EUR_FREQ_HET=0.908064;EUR_FREQ_HOMALT=0.0543735;OTH_AN=190;OTH_AC=84;OTH_AF=0.442105;OTH_N_BI_GENOS=95;OTH_N_HOMREF=14;OTH_N_HET=78;OTH_N_HOMALT=3;OTH_FREQ_HOMREF=0.147368;OTH_FREQ_HET=0.821053;OTH_FREQ_HOMALT=0.0315789;POPMAX_AF=0.508406\n"
     ]
    }
   ],
   "source": [
    "!zgrep 10264469 gnomad_v2.1_sv.sites.vcf.gz"
   ]
  },
  {
   "cell_type": "code",
   "execution_count": 40,
   "metadata": {},
   "outputs": [
    {
     "name": "stdout",
     "output_type": "stream",
     "text": [
      "10\t11594397\tgnomAD-SV_v2.1_INS_10_70506\tN\t<INS:ME:ALU>\t261\tPASS\tEND=11594398;SVTYPE=INS;SVLEN=281;CHR2=10;POS2=11594412;END2=11594413;ALGORITHMS=melt;BOTHSIDES_SUPPORT;EVIDENCE=SR;PROTEIN_CODING__INTERGENIC;PROTEIN_CODING__NEAREST_TSS=USP6NL;AN=21694;AC=1;AF=4.6e-05;N_BI_GENOS=10847;N_HOMREF=10846;N_HET=1;N_HOMALT=0;FREQ_HOMREF=0.999908;FREQ_HET=9.21914e-05;FREQ_HOMALT=0;AFR_AN=9534;AFR_AC=1;AFR_AF=0.000105;AFR_N_BI_GENOS=4767;AFR_N_HOMREF=4766;AFR_N_HET=1;AFR_N_HOMALT=0;AFR_FREQ_HOMREF=0.99979;AFR_FREQ_HET=0.000209776;AFR_FREQ_HOMALT=0;AMR_AN=1930;AMR_AC=0;AMR_AF=0;AMR_N_BI_GENOS=965;AMR_N_HOMREF=965;AMR_N_HET=0;AMR_N_HOMALT=0;AMR_FREQ_HOMREF=1;AMR_FREQ_HET=0;AMR_FREQ_HOMALT=0;EAS_AN=2416;EAS_AC=0;EAS_AF=0;EAS_N_BI_GENOS=1208;EAS_N_HOMREF=1208;EAS_N_HET=0;EAS_N_HOMALT=0;EAS_FREQ_HOMREF=1;EAS_FREQ_HET=0;EAS_FREQ_HOMALT=0;EUR_AN=7624;EUR_AC=0;EUR_AF=0;EUR_N_BI_GENOS=3812;EUR_N_HOMREF=3812;EUR_N_HET=0;EUR_N_HOMALT=0;EUR_FREQ_HOMREF=1;EUR_FREQ_HET=0;EUR_FREQ_HOMALT=0;OTH_AN=190;OTH_AC=0;OTH_AF=0;OTH_N_BI_GENOS=95;OTH_N_HOMREF=95;OTH_N_HET=0;OTH_N_HOMALT=0;OTH_FREQ_HOMREF=1;OTH_FREQ_HET=0;OTH_FREQ_HOMALT=0;POPMAX_AF=0.000105\n",
      "6\t95943964\tgnomAD-SV_v2.1_INS_6_48672\tN\t<INS:ME:ALU>\t551\tPASS\tEND=95943965;SVTYPE=INS;SVLEN=280;CHR2=6;POS2=95943972;END2=95943973;ALGORITHMS=melt;BOTHSIDES_SUPPORT;EVIDENCE=SR;PROTEIN_CODING__INTERGENIC;PROTEIN_CODING__NEAREST_TSS=MANEA;AN=21692;AC=8;AF=0.000369;N_BI_GENOS=10846;N_HOMREF=10839;N_HET=6;N_HOMALT=1;FREQ_HOMREF=0.999355;FREQ_HET=0.000553199;FREQ_HOMALT=9.21999e-05;AFR_AN=9532;AFR_AC=8;AFR_AF=0.000839;AFR_N_BI_GENOS=4766;AFR_N_HOMREF=4759;AFR_N_HET=6;AFR_N_HOMALT=1;AFR_FREQ_HOMREF=0.998531;AFR_FREQ_HET=0.00125892;AFR_FREQ_HOMALT=0.00020982;AMR_AN=1930;AMR_AC=0;AMR_AF=0;AMR_N_BI_GENOS=965;AMR_N_HOMREF=965;AMR_N_HET=0;AMR_N_HOMALT=0;AMR_FREQ_HOMREF=1;AMR_FREQ_HET=0;AMR_FREQ_HOMALT=0;EAS_AN=2416;EAS_AC=0;EAS_AF=0;EAS_N_BI_GENOS=1208;EAS_N_HOMREF=1208;EAS_N_HET=0;EAS_N_HOMALT=0;EAS_FREQ_HOMREF=1;EAS_FREQ_HET=0;EAS_FREQ_HOMALT=0;EUR_AN=7624;EUR_AC=0;EUR_AF=0;EUR_N_BI_GENOS=3812;EUR_N_HOMREF=3812;EUR_N_HET=0;EUR_N_HOMALT=0;EUR_FREQ_HOMREF=1;EUR_FREQ_HET=0;EUR_FREQ_HOMALT=0;OTH_AN=190;OTH_AC=0;OTH_AF=0;OTH_N_BI_GENOS=95;OTH_N_HOMREF=95;OTH_N_HET=0;OTH_N_HOMALT=0;OTH_FREQ_HOMREF=1;OTH_FREQ_HET=0;OTH_FREQ_HOMALT=0;POPMAX_AF=0.000839\n",
      "7\t57594397\tgnomAD-SV_v2.1_BND_7_29556\tN\t<BND>\t174\tUNRESOLVED\tEND=57594398;SVTYPE=BND;SVLEN=172;CHR2=7;POS2=57594569;END2=57594570;ALGORITHMS=delly;EVIDENCE=SR;UNRESOLVED_TYPE=SR_ONLY_LARGE_INVERSION;AN=21464;AC=22;AF=0.001025;N_BI_GENOS=10732;N_HOMREF=10710;N_HET=22;N_HOMALT=0;FREQ_HOMREF=0.99795;FREQ_HET=0.00204994;FREQ_HOMALT=0;AFR_AN=9314;AFR_AC=21;AFR_AF=0.002255;AFR_N_BI_GENOS=4657;AFR_N_HOMREF=4636;AFR_N_HET=21;AFR_N_HOMALT=0;AFR_FREQ_HOMREF=0.995491;AFR_FREQ_HET=0.00450934;AFR_FREQ_HOMALT=0;AMR_AN=1920;AMR_AC=1;AMR_AF=0.000521;AMR_N_BI_GENOS=960;AMR_N_HOMREF=959;AMR_N_HET=1;AMR_N_HOMALT=0;AMR_FREQ_HOMREF=0.998958;AMR_FREQ_HET=0.00104167;AMR_FREQ_HOMALT=0;EAS_AN=2416;EAS_AC=0;EAS_AF=0;EAS_N_BI_GENOS=1208;EAS_N_HOMREF=1208;EAS_N_HET=0;EAS_N_HOMALT=0;EAS_FREQ_HOMREF=1;EAS_FREQ_HET=0;EAS_FREQ_HOMALT=0;EUR_AN=7624;EUR_AC=0;EUR_AF=0;EUR_N_BI_GENOS=3812;EUR_N_HOMREF=3812;EUR_N_HET=0;EUR_N_HOMALT=0;EUR_FREQ_HOMREF=1;EUR_FREQ_HET=0;EUR_FREQ_HOMALT=0;OTH_AN=190;OTH_AC=0;OTH_AF=0;OTH_N_BI_GENOS=95;OTH_N_HOMREF=95;OTH_N_HET=0;OTH_N_HOMALT=0;OTH_FREQ_HOMREF=1;OTH_FREQ_HET=0;OTH_FREQ_HOMALT=0;POPMAX_AF=0.002255\n",
      "8\t594397\tgnomAD-SV_v2.1_DEL_8_88472\tN\t<DEL>\t999\tPASS\tEND=599414;SVTYPE=DEL;SVLEN=5017;ALGORITHMS=delly;BOTHSIDES_SUPPORT;EVIDENCE=RD,SR;PESR_GT_OVERDISPERSION;PROTEIN_CODING__INTERGENIC;PROTEIN_CODING__NEAREST_TSS=TDRP;AN=21624;AC=13978;AF=0.646411;N_BI_GENOS=10812;N_HOMREF=1598;N_HET=4450;N_HOMALT=4764;FREQ_HOMREF=0.147799;FREQ_HET=0.41158;FREQ_HOMALT=0.440622;AFR_AN=9508;AFR_AC=5158;AFR_AF=0.542491;AFR_N_BI_GENOS=4754;AFR_N_HOMREF=1042;AFR_N_HET=2266;AFR_N_HOMALT=1446;AFR_FREQ_HOMREF=0.219184;AFR_FREQ_HET=0.476651;AFR_FREQ_HOMALT=0.304165;AMR_AN=1902;AMR_AC=1165;AMR_AF=0.612513;AMR_N_BI_GENOS=951;AMR_N_HOMREF=154;AMR_N_HET=429;AMR_N_HOMALT=368;AMR_FREQ_HOMREF=0.161935;AMR_FREQ_HET=0.451104;AMR_FREQ_HOMALT=0.386961;EAS_AN=2416;EAS_AC=1347;EAS_AF=0.557533;EAS_N_BI_GENOS=1208;EAS_N_HOMREF=237;EAS_N_HET=595;EAS_N_HOMALT=376;EAS_FREQ_HOMREF=0.196192;EAS_FREQ_HET=0.49255;EAS_FREQ_HOMALT=0.311258;EUR_AN=7608;EUR_AC=6185;EUR_AF=0.81296;EUR_N_BI_GENOS=3804;EUR_N_HOMREF=152;EUR_N_HET=1119;EUR_N_HOMALT=2533;EUR_FREQ_HOMREF=0.0399579;EUR_FREQ_HET=0.294164;EUR_FREQ_HOMALT=0.665878;OTH_AN=190;OTH_AC=123;OTH_AF=0.647368;OTH_N_BI_GENOS=95;OTH_N_HOMREF=13;OTH_N_HET=41;OTH_N_HOMALT=41;OTH_FREQ_HOMREF=0.136842;OTH_FREQ_HET=0.431579;OTH_FREQ_HOMALT=0.431579;POPMAX_AF=0.81296\n"
     ]
    }
   ],
   "source": [
    "!zgrep 594397 gnomad_v2.1_sv.sites.vcf.gz"
   ]
  },
  {
   "cell_type": "code",
   "execution_count": 41,
   "metadata": {},
   "outputs": [
    {
     "name": "stdout",
     "output_type": "stream",
     "text": [
      "9\t32315161\tgnomAD-SV_v2.1_DEL_9_101360\tN\t<DEL>\t950\tPASS\tEND=32315380;SVTYPE=DEL;SVLEN=219;ALGORITHMS=manta;BOTHSIDES_SUPPORT;EVIDENCE=RD,SR;PESR_GT_OVERDISPERSION;PROTEIN_CODING__INTERGENIC;PROTEIN_CODING__NEAREST_TSS=ACO1;AN=21650;AC=15013;AF=0.693441;N_BI_GENOS=10825;N_HOMREF=494;N_HET=5649;N_HOMALT=4682;FREQ_HOMREF=0.0456351;FREQ_HET=0.521848;FREQ_HOMALT=0.432517;AFR_AN=9516;AFR_AC=6729;AFR_AF=0.707125;AFR_N_BI_GENOS=4758;AFR_N_HOMREF=167;AFR_N_HET=2453;AFR_N_HOMALT=2138;AFR_FREQ_HOMREF=0.0350988;AFR_FREQ_HET=0.515553;AFR_FREQ_HOMALT=0.449348;AMR_AN=1906;AMR_AC=1220;AMR_AF=0.640084;AMR_N_BI_GENOS=953;AMR_N_HOMREF=77;AMR_N_HET=532;AMR_N_HOMALT=344;AMR_FREQ_HOMREF=0.0807975;AMR_FREQ_HET=0.558237;AMR_FREQ_HOMALT=0.360965;EAS_AN=2416;EAS_AC=1598;EAS_AF=0.661424;EAS_N_BI_GENOS=1208;EAS_N_HOMREF=72;EAS_N_HET=674;EAS_N_HOMALT=462;EAS_FREQ_HOMREF=0.0596026;EAS_FREQ_HET=0.557947;EAS_FREQ_HOMALT=0.38245;EUR_AN=7622;EUR_AC=5346;EUR_AF=0.701391;EUR_N_BI_GENOS=3811;EUR_N_HOMREF=171;EUR_N_HET=1934;EUR_N_HOMALT=1706;EUR_FREQ_HOMREF=0.0448701;EUR_FREQ_HET=0.507478;EUR_FREQ_HOMALT=0.447652;OTH_AN=190;OTH_AC=120;OTH_AF=0.631579;OTH_N_BI_GENOS=95;OTH_N_HOMREF=7;OTH_N_HET=56;OTH_N_HOMALT=32;OTH_FREQ_HOMREF=0.0736842;OTH_FREQ_HET=0.589474;OTH_FREQ_HOMALT=0.336842;POPMAX_AF=0.707125\r\n"
     ]
    }
   ],
   "source": [
    "!zgrep 32315161 gnomad_v2.1_sv.sites.vcf.gz"
   ]
  },
  {
   "cell_type": "code",
   "execution_count": 42,
   "metadata": {},
   "outputs": [
    {
     "name": "stdout",
     "output_type": "stream",
     "text": [
      "9\t119477077\tgnomAD-SV_v2.1_DEL_9_105350\tN\t<DEL>\t999\tPASS\tEND=119477397;SVTYPE=DEL;SVLEN=320;ALGORITHMS=manta;BOTHSIDES_SUPPORT;EVIDENCE=RD,SR;PESR_GT_OVERDISPERSION;PROTEIN_CODING__INTERGENIC;PROTEIN_CODING__NEAREST_TSS=ASTN2;AN=21678;AC=16080;AF=0.741766;N_BI_GENOS=10839;N_HOMREF=210;N_HET=5178;N_HOMALT=5451;FREQ_HOMREF=0.0193745;FREQ_HET=0.477719;FREQ_HOMALT=0.502906;AFR_AN=9530;AFR_AC=7264;AFR_AF=0.762225;AFR_N_BI_GENOS=4765;AFR_N_HOMREF=50;AFR_N_HET=2166;AFR_N_HOMALT=2549;AFR_FREQ_HOMREF=0.0104932;AFR_FREQ_HET=0.454565;AFR_FREQ_HOMALT=0.534942;AMR_AN=1922;AMR_AC=1485;AMR_AF=0.772633;AMR_N_BI_GENOS=961;AMR_N_HOMREF=17;AMR_N_HET=403;AMR_N_HOMALT=541;AMR_FREQ_HOMREF=0.0176899;AMR_FREQ_HET=0.419355;AMR_FREQ_HOMALT=0.562955;EAS_AN=2416;EAS_AC=1789;EAS_AF=0.74048;EAS_N_BI_GENOS=1208;EAS_N_HOMREF=22;EAS_N_HET=583;EAS_N_HOMALT=603;EAS_FREQ_HOMREF=0.0182119;EAS_FREQ_HET=0.482616;EAS_FREQ_HOMALT=0.499172;EUR_AN=7620;EUR_AC=5397;EUR_AF=0.708268;EUR_N_BI_GENOS=3810;EUR_N_HOMREF=120;EUR_N_HET=1983;EUR_N_HOMALT=1707;EUR_FREQ_HOMREF=0.0314961;EUR_FREQ_HET=0.520472;EUR_FREQ_HOMALT=0.448031;OTH_AN=190;OTH_AC=145;OTH_AF=0.763158;OTH_N_BI_GENOS=95;OTH_N_HOMREF=1;OTH_N_HET=43;OTH_N_HOMALT=51;OTH_FREQ_HOMREF=0.0105263;OTH_FREQ_HET=0.452632;OTH_FREQ_HOMALT=0.536842;POPMAX_AF=0.772633\r\n"
     ]
    }
   ],
   "source": [
    "!zgrep 119477077 gnomad_v2.1_sv.sites.vcf.gz"
   ]
  },
  {
   "cell_type": "code",
   "execution_count": 43,
   "metadata": {},
   "outputs": [
    {
     "name": "stdout",
     "output_type": "stream",
     "text": [
      "10\t18503076\tgnomAD-SV_v2.1_DEL_10_108303\tN\t<DEL>\t937\tPASS\tEND=18503589;SVTYPE=DEL;SVLEN=513;ALGORITHMS=delly;BOTHSIDES_SUPPORT;EVIDENCE=RD,SR;PESR_GT_OVERDISPERSION;PROTEIN_CODING__INTRONIC=CACNB2;AN=21662;AC=11962;AF=0.552211;N_BI_GENOS=10831;N_HOMREF=2185;N_HET=5330;N_HOMALT=3316;FREQ_HOMREF=0.201736;FREQ_HET=0.492106;FREQ_HOMALT=0.306158;AFR_AN=9514;AFR_AC=3806;AFR_AF=0.400042;AFR_N_BI_GENOS=4757;AFR_N_HOMREF=1646;AFR_N_HET=2416;AFR_N_HOMALT=695;AFR_FREQ_HOMREF=0.346016;AFR_FREQ_HET=0.507883;AFR_FREQ_HOMALT=0.1461;AMR_AN=1918;AMR_AC=1376;AMR_AF=0.717414;AMR_N_BI_GENOS=959;AMR_N_HOMREF=53;AMR_N_HET=436;AMR_N_HOMALT=470;AMR_FREQ_HOMREF=0.0552659;AMR_FREQ_HET=0.45464;AMR_FREQ_HOMALT=0.490094;EAS_AN=2416;EAS_AC=1135;EAS_AF=0.469785;EAS_N_BI_GENOS=1208;EAS_N_HOMREF=311;EAS_N_HET=659;EAS_N_HOMALT=238;EAS_FREQ_HOMREF=0.25745;EAS_FREQ_HET=0.54553;EAS_FREQ_HOMALT=0.19702;EUR_AN=7624;EUR_AC=5531;EUR_AF=0.725472;EUR_N_BI_GENOS=3812;EUR_N_HOMREF=163;EUR_N_HET=1767;EUR_N_HOMALT=1882;EUR_FREQ_HOMREF=0.0427597;EUR_FREQ_HET=0.463536;EUR_FREQ_HOMALT=0.493704;OTH_AN=190;OTH_AC=114;OTH_AF=0.6;OTH_N_BI_GENOS=95;OTH_N_HOMREF=12;OTH_N_HET=52;OTH_N_HOMALT=31;OTH_FREQ_HOMREF=0.126316;OTH_FREQ_HET=0.547368;OTH_FREQ_HOMALT=0.326316;POPMAX_AF=0.725472\r\n"
     ]
    }
   ],
   "source": [
    "!zgrep 18503076 gnomad_v2.1_sv.sites.vcf.gz"
   ]
  },
  {
   "cell_type": "code",
   "execution_count": 44,
   "metadata": {},
   "outputs": [
    {
     "name": "stdout",
     "output_type": "stream",
     "text": [
      "10\t132182191\tgnomAD-SV_v2.1_DEL_10_115260\tN\t<DEL>\t482\tPASS\tEND=132182302;SVTYPE=DEL;SVLEN=111;ALGORITHMS=manta;BOTHSIDES_SUPPORT;EVIDENCE=RD,SR;PESR_GT_OVERDISPERSION;PROTEIN_CODING__INTERGENIC;PROTEIN_CODING__NEAREST_TSS=EBF3;AN=21674;AC=10487;AF=0.483852;N_BI_GENOS=10837;N_HOMREF=630;N_HET=9927;N_HOMALT=280;FREQ_HOMREF=0.0581342;FREQ_HET=0.916028;FREQ_HOMALT=0.0258374;AFR_AN=9522;AFR_AC=4308;AFR_AF=0.452426;AFR_N_BI_GENOS=4761;AFR_N_HOMREF=539;AFR_N_HET=4136;AFR_N_HOMALT=86;AFR_FREQ_HOMREF=0.113212;AFR_FREQ_HET=0.868725;AFR_FREQ_HOMALT=0.0180634;AMR_AN=1922;AMR_AC=1001;AMR_AF=0.520812;AMR_N_BI_GENOS=961;AMR_N_HOMREF=15;AMR_N_HET=891;AMR_N_HOMALT=55;AMR_FREQ_HOMREF=0.0156087;AMR_FREQ_HET=0.927159;AMR_FREQ_HOMALT=0.057232;EAS_AN=2416;EAS_AC=1241;EAS_AF=0.513659;EAS_N_BI_GENOS=1208;EAS_N_HOMREF=4;EAS_N_HET=1167;EAS_N_HOMALT=37;EAS_FREQ_HOMREF=0.00331126;EAS_FREQ_HET=0.96606;EAS_FREQ_HOMALT=0.0306291;EUR_AN=7624;EUR_AC=3841;EUR_AF=0.503804;EUR_N_BI_GENOS=3812;EUR_N_HOMREF=71;EUR_N_HET=3641;EUR_N_HOMALT=100;EUR_FREQ_HOMREF=0.0186254;EUR_FREQ_HET=0.955142;EUR_FREQ_HOMALT=0.0262329;OTH_AN=190;OTH_AC=96;OTH_AF=0.505263;OTH_N_BI_GENOS=95;OTH_N_HOMREF=1;OTH_N_HET=92;OTH_N_HOMALT=2;OTH_FREQ_HOMREF=0.0105263;OTH_FREQ_HET=0.968421;OTH_FREQ_HOMALT=0.0210526;POPMAX_AF=0.520812\r\n"
     ]
    }
   ],
   "source": [
    "!zgrep 132182191 gnomad_v2.1_sv.sites.vcf.gz"
   ]
  },
  {
   "cell_type": "code",
   "execution_count": 45,
   "metadata": {},
   "outputs": [
    {
     "name": "stdout",
     "output_type": "stream",
     "text": [
      "X\t75253870\tgnomAD-SV_v2.1_DEL_X_187318\tN\t<DEL>\t397\tPASS\tEND=75254166;SVTYPE=DEL;SVLEN=296;ALGORITHMS=manta;BOTHSIDES_SUPPORT;EVIDENCE=RD,SR;PROTEIN_CODING__INTERGENIC;PROTEIN_CODING__NEAREST_TSS=PBDC1;AN=21496;AC=9630;AF=0.44799;N_BI_GENOS=10748;N_HOMREF=1501;N_HET=8864;N_HOMALT=383;FREQ_HOMREF=0.139654;FREQ_HET=0.824712;FREQ_HOMALT=0.0356345;AFR_AN=9460;AFR_AC=4559;AFR_AF=0.481924;AFR_N_BI_GENOS=4730;AFR_N_HOMREF=337;AFR_N_HET=4227;AFR_N_HOMALT=166;AFR_FREQ_HOMREF=0.0712474;AFR_FREQ_HET=0.893658;AFR_FREQ_HOMALT=0.0350951;AMR_AN=1852;AMR_AC=759;AMR_AF=0.409827;AMR_N_BI_GENOS=926;AMR_N_HOMREF=191;AMR_N_HET=711;AMR_N_HOMALT=24;AMR_FREQ_HOMREF=0.206263;AMR_FREQ_HET=0.767819;AMR_FREQ_HOMALT=0.0259179;EAS_AN=2408;EAS_AC=344;EAS_AF=0.142857;EAS_N_BI_GENOS=1204;EAS_N_HOMREF=861;EAS_N_HET=342;EAS_N_HOMALT=1;EAS_FREQ_HOMREF=0.715116;EAS_FREQ_HET=0.284053;EAS_FREQ_HOMALT=0.000830565;EUR_AN=7586;EUR_AC=3876;EUR_AF=0.510941;EUR_N_BI_GENOS=3793;EUR_N_HOMREF=103;EUR_N_HET=3504;EUR_N_HOMALT=186;EUR_FREQ_HOMREF=0.0271553;EUR_FREQ_HET=0.923807;EUR_FREQ_HOMALT=0.0490377;OTH_AN=190;OTH_AC=92;OTH_AF=0.484211;OTH_N_BI_GENOS=95;OTH_N_HOMREF=9;OTH_N_HET=80;OTH_N_HOMALT=6;OTH_FREQ_HOMREF=0.0947368;OTH_FREQ_HET=0.842105;OTH_FREQ_HOMALT=0.0631579;POPMAX_AF=0.510941\r\n"
     ]
    }
   ],
   "source": [
    "!zgrep 75253870 gnomad_v2.1_sv.sites.vcf.gz"
   ]
  },
  {
   "cell_type": "code",
   "execution_count": null,
   "metadata": {},
   "outputs": [],
   "source": []
  }
 ],
 "metadata": {
  "kernelspec": {
   "display_name": "Python 3",
   "language": "python",
   "name": "python3"
  },
  "language_info": {
   "codemirror_mode": {
    "name": "ipython",
    "version": 3
   },
   "file_extension": ".py",
   "mimetype": "text/x-python",
   "name": "python",
   "nbconvert_exporter": "python",
   "pygments_lexer": "ipython3",
   "version": "3.7.4"
  }
 },
 "nbformat": 4,
 "nbformat_minor": 2
}
