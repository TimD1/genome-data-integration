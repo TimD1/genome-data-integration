{
 "cells": [
  {
   "cell_type": "code",
   "execution_count": null,
   "metadata": {},
   "outputs": [],
   "source": [
    "#Compare to Bionano DLS size prediction in benchmark regions"
   ]
  },
  {
   "cell_type": "code",
   "execution_count": 1,
   "metadata": {},
   "outputs": [],
   "source": [
    "#download ftp://ftp-trace.ncbi.nlm.nih.gov/giab/ftp/data/AshkenazimTrio/analysis/Bionano_haplotype_SV_DLS_06172019/AJ_SV_hs37d5/GM24385_SV_hs37d5/exp_refineFinal1_merged_filter_inversions_nmc.smap"
   ]
  },
  {
   "cell_type": "code",
   "execution_count": 7,
   "metadata": {},
   "outputs": [],
   "source": [
    "!grep -v ^# exp_refineFinal1_merged_filter_inversions_nmc.smap | awk '{FS=OFS=\"\\t\"} {print $3,int($7),int($8),$10,$25}' | awk '$3>$2' | uniq > exp_refineFinal1_merged_filter_inversions_nmc.bed"
   ]
  },
  {
   "cell_type": "code",
   "execution_count": 3,
   "metadata": {},
   "outputs": [],
   "source": [
    "!zgrep -v '^#' /Users/jzook/Documents/AJTrio/SVs/triounion_171212/NIST_SVs_Integration_v0.6/HG002_SVs_Tier1_v0.6.vcf.gz | awk '{FS=OFS=\"\\t\"} {if($7==\"PASS\") print $1,$2,$2+length($4)+1,length($5)-length($4)}' > GIABv0.6withsize.bed"
   ]
  },
  {
   "cell_type": "code",
   "execution_count": 4,
   "metadata": {},
   "outputs": [
    {
     "name": "stdout",
     "output_type": "stream",
     "text": [
      "1\t5214508\t5233938\tinsertion\t761.6\t1\t5220232\t5220234\t618\r\n",
      "1\t5439442\t5448978\tinsertion\t5223.5\t1\t5447246\t5447248\t5749\r\n",
      "1\t7000745\t7008801\tinsertion\t516.2\t1\t7000972\t7000974\t471\r\n",
      "1\t7575390\t7583639\tinsertion\t1573\t1\t7580260\t7580262\t1454\r\n",
      "1\t8333623\t8345579\tinsertion\t822.2\t1\t8336892\t8336894\t719\r\n"
     ]
    }
   ],
   "source": [
    "!/Applications/bioinfo/bedtools2.26.0/bin/subtractBed -a /Applications/bioinfo/bedtools2/genomes/human.b37.genome.bed -b /Users/jzook/Documents/AJTrio/SVs/triounion_171212/NIST_SVs_Integration_v0.6/HG002_SVs_Tier1_noVDJorXorY_v0.6.2.bed | /Applications/bioinfo/bedtools2.26.0/bin/intersectBed -v -a exp_refineFinal1_merged_filter_inversions_nmc.bed -b stdin | /Applications/bioinfo/bedtools2.26.0/bin/intersectBed -wa -wb -a stdin -b GIABv0.6withsize.bed | head -5"
   ]
  },
  {
   "cell_type": "code",
   "execution_count": 16,
   "metadata": {},
   "outputs": [
    {
     "name": "stdout",
     "output_type": "stream",
     "text": [
      "1\t27407294\t27439804\tinsertion\t2480.7\t1\t27412986\t27412988\t1164\r\n",
      "1\t27407294\t27439804\tinsertion\t2480.7\t1\t27433707\t27433709\t1246\r\n",
      "1\t27407294\t27439804\tinsertion\t2480.8\t1\t27412986\t27412988\t1164\r\n",
      "1\t27407294\t27439804\tinsertion\t2480.8\t1\t27433707\t27433709\t1246\r\n",
      "1\t168349429\t168383142\tinsertion\t2055.9\t1\t168364733\t168364735\t828\r\n",
      "1\t168349429\t168383142\tinsertion\t2055.9\t1\t168379694\t168379707\t1182\r\n",
      "1\t168349429\t168383142\tinsertion\t2055.8\t1\t168364733\t168364735\t828\r\n",
      "1\t168349429\t168383142\tinsertion\t2055.8\t1\t168379694\t168379707\t1182\r\n",
      "2\t32040238\t32050485\tinsertion\t3364.7\t2\t32046160\t32046162\t1269\r\n",
      "2\t32040238\t32050485\tinsertion\t3364.7\t2\t32048478\t32048480\t2030\r\n",
      "2\t32040238\t32050485\tinsertion\t3364.7\t2\t32046160\t32046162\t1269\r\n",
      "2\t32040238\t32050485\tinsertion\t3364.7\t2\t32048478\t32048480\t2030\r\n",
      "3\t128373282\t128396083\tinsertion\t2613.1\t3\t128395208\t128395210\t310\r\n",
      "3\t183378001\t183409249\tinsertion\t3423\t3\t183378856\t183378858\t2015\r\n",
      "3\t183378001\t183409249\tinsertion\t3423\t3\t183402601\t183402603\t1535\r\n",
      "4\t38729559\t38756565\tinsertion\t1192.2\t4\t38735796\t38735798\t461\r\n",
      "4\t38729559\t38756565\tinsertion\t1192.2\t4\t38755998\t38756000\t606\r\n",
      "4\t38729559\t38756565\tinsertion\t1192.3\t4\t38735796\t38735798\t461\r\n",
      "4\t38729559\t38756565\tinsertion\t1192.3\t4\t38755998\t38756000\t606\r\n",
      "4\t151171044\t151173475\tinsertion\t2828.2\t4\t151172000\t151172002\t1080\r\n",
      "5\t144561986\t144565000\tinsertion\t1157.7\t5\t144562568\t144562570\t649\r\n",
      "6\t2374139\t2386022\tinsertion\t1587.4\t6\t2376480\t2376482\t672\r\n",
      "6\t2374139\t2386022\tinsertion\t1587.4\t6\t2384507\t2384509\t956\r\n",
      "6\t68499818\t68512954\tinsertion\t2394.1\t6\t68502427\t68502429\t338\r\n",
      "6\t64992534\t65013059\tinsertion\t6723.1\t6\t65000859\t65000861\t1412\r\n",
      "6\t68499818\t68512954\tinsertion\t2394.1\t6\t68502427\t68502429\t338\r\n",
      "7\t131757228\t131761601\tinsertion\t1421\t7\t131758348\t131758350\t1076\r\n",
      "7\t107802785\t107829598\tinsertion\t6465.7\t7\t107804138\t107804140\t462\r\n",
      "8\t49077823\t49093480\tinsertion\t1556.7\t8\t49086507\t49086509\t1026\r\n",
      "8\t145267689\t145289679\tinsertion\t1757.2\t8\t145273691\t145273693\t699\r\n",
      "8\t145267689\t145289679\tinsertion\t1757.2\t8\t145288226\t145288228\t763\r\n",
      "9\t137544688\t137551683\tinsertion\t1461.2\t9\t137548736\t137548738\t1076\r\n",
      "9\t139914304\t139946236\tinsertion\t1557.7\t9\t139928726\t139928728\t669\r\n",
      "9\t139914304\t139946236\tinsertion\t1557.7\t9\t139944496\t139944498\t1042\r\n",
      "9\t91861915\t91873118\tinsertion\t1301.8\t9\t91869036\t91869038\t952\r\n",
      "9\t139914304\t139946236\tinsertion\t1557.7\t9\t139928726\t139928728\t669\r\n",
      "9\t139914304\t139946236\tinsertion\t1557.7\t9\t139944496\t139944498\t1042\r\n",
      "10\t595967\t603660\tinsertion\t835.3\t10\t601982\t601984\t339\r\n",
      "10\t29095894\t29107309\tinsertion\t672.3\t10\t29102527\t29102529\t315\r\n",
      "10\t29095894\t29107309\tinsertion\t672.3\t10\t29105284\t29105286\t315\r\n",
      "10\t29095894\t29107309\tinsertion\t672.3\t10\t29102527\t29102529\t315\r\n",
      "10\t29095894\t29107309\tinsertion\t672.3\t10\t29105284\t29105286\t315\r\n",
      "10\t125007924\t125018432\tinsertion\t3314.1\t10\t125013868\t125013870\t2497\r\n",
      "11\t36305572\t36331853\tinsertion\t3029.2\t11\t36308592\t36308594\t855\r\n",
      "11\t36305572\t36331853\tinsertion\t3029.2\t11\t36331174\t36331176\t2108\r\n",
      "11\t42738171\t42743283\tinsertion\t1425.7\t11\t42740533\t42740544\t451\r\n",
      "11\t42738171\t42743283\tinsertion\t1425.7\t11\t42743179\t42743181\t1023\r\n",
      "11\t36305572\t36331853\tinsertion\t3029.3\t11\t36308592\t36308594\t855\r\n",
      "11\t36305572\t36331853\tinsertion\t3029.3\t11\t36331174\t36331176\t2108\r\n",
      "11\t66988129\t67010100\tinsertion\t2541.5\t11\t66990063\t66990065\t532\r\n",
      "11\t66988129\t67010100\tinsertion\t2541.5\t11\t67001003\t67001005\t1593\r\n",
      "11\t68872105\t68892268\tinsertion\t1311.4\t11\t68877872\t68877874\t699\r\n",
      "11\t68872105\t68892268\tinsertion\t1311.4\t11\t68892136\t68892138\t440\r\n",
      "11\t66988129\t67010100\tinsertion\t2541.6\t11\t66990063\t66990065\t532\r\n",
      "11\t66988129\t67010100\tinsertion\t2541.6\t11\t67001003\t67001005\t1593\r\n",
      "11\t68872105\t68892268\tinsertion\t1311.4\t11\t68877872\t68877874\t699\r\n",
      "11\t68872105\t68892268\tinsertion\t1311.4\t11\t68892136\t68892138\t440\r\n",
      "11\t119214800\t119236933\tinsertion\t1226.5\t11\t119222186\t119222188\t894\r\n",
      "11\t119214800\t119236933\tinsertion\t1226.5\t11\t119222186\t119222188\t894\r\n",
      "12\t120879424\t120882219\tinsertion\t1369.1\t12\t120879963\t120879965\t591\r\n",
      "12\t120879424\t120882219\tinsertion\t1562.6\t12\t120879963\t120879965\t591\r\n",
      "13\t79258281\t79272829\tinsertion\t2119.6\t13\t79271585\t79271587\t319\r\n",
      "13\t79258281\t79272829\tinsertion\t2119.6\t13\t79271585\t79271587\t319\r\n",
      "13\t112991948\t112996122\tinsertion\t1062.7\t13\t112996019\t112996021\t663\r\n",
      "15\t102061117\t102084891\tinsertion\t3588.3\t15\t102083100\t102083102\t2572\r\n",
      "15\t102061117\t102084891\tinsertion\t3588.3\t15\t102083100\t102083102\t2572\r\n",
      "17\t4948962\t4971174\tinsertion\t2621.8\t17\t4961439\t4961441\t313\r\n",
      "17\t4948962\t4970570\tinsertion\t2224.8\t17\t4961439\t4961441\t313\r\n",
      "17\t38659329\t38688343\tinsertion\t1390.3\t17\t38665785\t38665787\t571\r\n",
      "17\t38659329\t38688343\tinsertion\t1390.3\t17\t38679441\t38679443\t820\r\n",
      "17\t38659329\t38688343\tinsertion\t1390.3\t17\t38665785\t38665787\t571\r\n",
      "17\t38659329\t38688343\tinsertion\t1390.3\t17\t38679441\t38679443\t820\r\n",
      "17\t42404636\t42413000\tinsertion\t1306.8\t17\t42409504\t42409506\t920\r\n",
      "17\t73413827\t73432966\tinsertion\t1319.3\t17\t73427172\t73427174\t683\r\n",
      "17\t73413827\t73432966\tinsertion\t1319.3\t17\t73432729\t73432731\t509\r\n",
      "17\t73413827\t73432966\tinsertion\t1319.3\t17\t73427172\t73427174\t683\r\n",
      "17\t73413827\t73432966\tinsertion\t1319.3\t17\t73432729\t73432731\t509\r\n",
      "18\t3603944\t3619550\tinsertion\t1448.3\t18\t3609773\t3609775\t447\r\n",
      "18\t3603944\t3619550\tinsertion\t1448.3\t18\t3618665\t3618667\t890\r\n",
      "19\t39035514\t39060111\tinsertion\t1895.4\t19\t39037330\t39037332\t914\r\n",
      "19\t39035514\t39060111\tinsertion\t1895.4\t19\t39044843\t39044845\t889\r\n",
      "19\t39035514\t39060111\tinsertion\t1895.3\t19\t39037330\t39037332\t914\r\n",
      "19\t39035514\t39060111\tinsertion\t1895.3\t19\t39044843\t39044845\t889\r\n",
      "20\t60556485\t60573829\tinsertion\t801.6\t20\t60560098\t60560100\t386\r\n",
      "21\t46971058\t46982109\tinsertion\t2476.4\t21\t46973548\t46973550\t464\r\n",
      "22\t36018144\t36037414\tinsertion\t921\t22\t36027676\t36027678\t317\r\n",
      "22\t36018144\t36037414\tinsertion\t920.9\t22\t36027676\t36027678\t317\r\n"
     ]
    }
   ],
   "source": [
    "!/Applications/bioinfo/bedtools2.26.0/bin/subtractBed -a /Applications/bioinfo/bedtools2/genomes/human.b37.genome.bed -b /Users/jzook/Documents/AJTrio/SVs/triounion_171212/NIST_SVs_Integration_v0.6/HG002_SVs_Tier1_noVDJorXorY_v0.6.2.bed | /Applications/bioinfo/bedtools2.26.0/bin/intersectBed -v -a exp_refineFinal1_merged_filter_inversions_nmc.bed -b stdin | /Applications/bioinfo/bedtools2.26.0/bin/intersectBed -wa -wb -a stdin -b GIABv0.6withsize.bed | awk '$4==\"insertion\" && $5-$9>300 && $9>300 && $5/$9>1.3' "
   ]
  },
  {
   "cell_type": "code",
   "execution_count": 17,
   "metadata": {},
   "outputs": [
    {
     "name": "stdout",
     "output_type": "stream",
     "text": [
      "   4 1\t27407294\t27439804\r\n",
      "   4 1\t168349429\t168383142\r\n",
      "   4 2\t32040238\t32050485\r\n",
      "   1 3\t128373282\t128396083\r\n",
      "   2 3\t183378001\t183409249\r\n",
      "   4 4\t38729559\t38756565\r\n",
      "   1 4\t151171044\t151173475\r\n",
      "   1 5\t144561986\t144565000\r\n",
      "   2 6\t2374139\t2386022\r\n",
      "   1 6\t64992534\t65013059\r\n",
      "   2 6\t68499818\t68512954\r\n",
      "   1 7\t107802785\t107829598\r\n",
      "   1 7\t131757228\t131761601\r\n",
      "   1 8\t49077823\t49093480\r\n",
      "   2 8\t145267689\t145289679\r\n",
      "   1 9\t91861915\t91873118\r\n",
      "   1 9\t137544688\t137551683\r\n",
      "   4 9\t139914304\t139946236\r\n",
      "   1 10\t595967\t603660\r\n",
      "   4 10\t29095894\t29107309\r\n",
      "   1 10\t125007924\t125018432\r\n",
      "   4 11\t36305572\t36331853\r\n",
      "   2 11\t42738171\t42743283\r\n",
      "   4 11\t66988129\t67010100\r\n",
      "   4 11\t68872105\t68892268\r\n",
      "   2 11\t119214800\t119236933\r\n",
      "   2 12\t120879424\t120882219\r\n",
      "   2 13\t79258281\t79272829\r\n",
      "   1 13\t112991948\t112996122\r\n",
      "   2 15\t102061117\t102084891\r\n",
      "   1 17\t4948962\t4970570\r\n",
      "   1 17\t4948962\t4971174\r\n",
      "   4 17\t38659329\t38688343\r\n",
      "   1 17\t42404636\t42413000\r\n",
      "   4 17\t73413827\t73432966\r\n",
      "   2 18\t3603944\t3619550\r\n",
      "   4 19\t39035514\t39060111\r\n",
      "   1 20\t60556485\t60573829\r\n",
      "   1 21\t46971058\t46982109\r\n",
      "   2 22\t36018144\t36037414\r\n"
     ]
    }
   ],
   "source": [
    "!/Applications/bioinfo/bedtools2.26.0/bin/subtractBed -a /Applications/bioinfo/bedtools2/genomes/human.b37.genome.bed -b /Users/jzook/Documents/AJTrio/SVs/triounion_171212/NIST_SVs_Integration_v0.6/HG002_SVs_Tier1_noVDJorXorY_v0.6.2.bed | /Applications/bioinfo/bedtools2.26.0/bin/intersectBed -v -a exp_refineFinal1_merged_filter_inversions_nmc.bed -b stdin | /Applications/bioinfo/bedtools2.26.0/bin/intersectBed -wa -wb -a stdin -b GIABv0.6withsize.bed | awk '$4==\"insertion\" && $5-$9>300 && $5/$9>1.3 && $9>300' | cut -f1-3 | sort -k1,1n -k2,2n -k3,3n | uniq -c "
   ]
  },
  {
   "cell_type": "code",
   "execution_count": null,
   "metadata": {},
   "outputs": [],
   "source": []
  }
 ],
 "metadata": {
  "kernelspec": {
   "display_name": "Python 3",
   "language": "python",
   "name": "python3"
  },
  "language_info": {
   "codemirror_mode": {
    "name": "ipython",
    "version": 3
   },
   "file_extension": ".py",
   "mimetype": "text/x-python",
   "name": "python",
   "nbconvert_exporter": "python",
   "pygments_lexer": "ipython3",
   "version": "3.7.4"
  }
 },
 "nbformat": 4,
 "nbformat_minor": 2
}
